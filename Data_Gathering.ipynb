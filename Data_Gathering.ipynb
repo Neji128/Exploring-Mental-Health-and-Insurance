{
 "cells": [
  {
   "cell_type": "markdown",
   "metadata": {},
   "source": [
    "# Importing Pertinent Libraries"
   ]
  },
  {
   "cell_type": "code",
   "execution_count": 3,
   "metadata": {},
   "outputs": [],
   "source": [
    "import pandas as pd\n",
    "from sodapy import Socrata\n",
    "from urllib.request import urlopen\n",
    "from zipfile import ZipFile\n",
    "import json, requests,  time\n",
    "from bs4 import BeautifulSoup\n",
    "from io import StringIO, BytesIO\n",
    "import numpy as np\n",
    "import io\n",
    "import re"
   ]
  },
  {
   "cell_type": "code",
   "execution_count": 4,
   "metadata": {},
   "outputs": [],
   "source": [
    "#importing API credintials\n",
    "\n",
    "with open(\"/Users/Desmond/.secret/CDC_api.json\") as f:\n",
    "    data = [json.loads(line) for line in f]"
   ]
  },
  {
   "cell_type": "markdown",
   "metadata": {},
   "source": [
    "#### NOTE: Be sure to change the file path above as necessary to run Socrata properly "
   ]
  },
  {
   "cell_type": "code",
   "execution_count": 5,
   "metadata": {},
   "outputs": [
    {
     "name": "stderr",
     "output_type": "stream",
     "text": [
      "WARNING:root:Requests made without an app_token will be subject to strict throttling limits.\n"
     ]
    }
   ],
   "source": [
    "#assingning API client per instructions\n",
    "client = Socrata(\"chronicdata.cdc.gov\", None)"
   ]
  },
  {
   "cell_type": "markdown",
   "metadata": {},
   "source": [
    "## Scrapping Historical Questionnaire Dictionaries"
   ]
  },
  {
   "cell_type": "code",
   "execution_count": 6,
   "metadata": {},
   "outputs": [
    {
     "data": {
      "text/html": [
       "<div>\n",
       "<style scoped>\n",
       "    .dataframe tbody tr th:only-of-type {\n",
       "        vertical-align: middle;\n",
       "    }\n",
       "\n",
       "    .dataframe tbody tr th {\n",
       "        vertical-align: top;\n",
       "    }\n",
       "\n",
       "    .dataframe thead th {\n",
       "        text-align: right;\n",
       "    }\n",
       "</style>\n",
       "<table border=\"1\" class=\"dataframe\">\n",
       "  <thead>\n",
       "    <tr style=\"text-align: right;\">\n",
       "      <th></th>\n",
       "      <th>topic</th>\n",
       "      <th>question</th>\n",
       "      <th>variablename</th>\n",
       "      <th>responses</th>\n",
       "      <th>year</th>\n",
       "      <th>type</th>\n",
       "      <th>displayorder</th>\n",
       "    </tr>\n",
       "  </thead>\n",
       "  <tbody>\n",
       "    <tr>\n",
       "      <th>0</th>\n",
       "      <td>Health Status</td>\n",
       "      <td>Would you say that in general your health is:</td>\n",
       "      <td>GENHLTH</td>\n",
       "      <td>1=Excellent 2=Very good 3=Good 4=Fair 5=Poor 7...</td>\n",
       "      <td>2018</td>\n",
       "      <td>Core Question</td>\n",
       "      <td>1</td>\n",
       "    </tr>\n",
       "    <tr>\n",
       "      <th>1</th>\n",
       "      <td>Healthy Days — Health Related Quality of Life</td>\n",
       "      <td>Now thinking about your physical health, which...</td>\n",
       "      <td>PHYSHLTH</td>\n",
       "      <td>1-30=Number of days 88=None 77=Don’t know/Not ...</td>\n",
       "      <td>2018</td>\n",
       "      <td>Core Question</td>\n",
       "      <td>2</td>\n",
       "    </tr>\n",
       "    <tr>\n",
       "      <th>2</th>\n",
       "      <td>Healthy Days — Health Related Quality of Life</td>\n",
       "      <td>Now thinking about your mental health, which i...</td>\n",
       "      <td>MENTHLTH</td>\n",
       "      <td>1-30=Number of days 88=None 77=Don’t know/Not ...</td>\n",
       "      <td>2018</td>\n",
       "      <td>Core Question</td>\n",
       "      <td>3</td>\n",
       "    </tr>\n",
       "    <tr>\n",
       "      <th>3</th>\n",
       "      <td>Healthy Days — Health Related Quality of Life</td>\n",
       "      <td>During the past 30 days, for about how many da...</td>\n",
       "      <td>POORHLTH</td>\n",
       "      <td>1-30=Number of days 88=None 77=Don’t know/Not ...</td>\n",
       "      <td>2018</td>\n",
       "      <td>Core Question</td>\n",
       "      <td>4</td>\n",
       "    </tr>\n",
       "    <tr>\n",
       "      <th>4</th>\n",
       "      <td>Health Care Access</td>\n",
       "      <td>Do you have any kind of health care coverage, ...</td>\n",
       "      <td>HLTHPLN1</td>\n",
       "      <td>1=Yes 2=No 7=Don’t know/Not Sure 9=Refused</td>\n",
       "      <td>2018</td>\n",
       "      <td>Core Question</td>\n",
       "      <td>5</td>\n",
       "    </tr>\n",
       "  </tbody>\n",
       "</table>\n",
       "</div>"
      ],
      "text/plain": [
       "                                           topic  \\\n",
       "0                                  Health Status   \n",
       "1  Healthy Days — Health Related Quality of Life   \n",
       "2  Healthy Days — Health Related Quality of Life   \n",
       "3  Healthy Days — Health Related Quality of Life   \n",
       "4                             Health Care Access   \n",
       "\n",
       "                                            question variablename  \\\n",
       "0      Would you say that in general your health is:      GENHLTH   \n",
       "1  Now thinking about your physical health, which...     PHYSHLTH   \n",
       "2  Now thinking about your mental health, which i...     MENTHLTH   \n",
       "3  During the past 30 days, for about how many da...     POORHLTH   \n",
       "4  Do you have any kind of health care coverage, ...     HLTHPLN1   \n",
       "\n",
       "                                           responses  year           type  \\\n",
       "0  1=Excellent 2=Very good 3=Good 4=Fair 5=Poor 7...  2018  Core Question   \n",
       "1  1-30=Number of days 88=None 77=Don’t know/Not ...  2018  Core Question   \n",
       "2  1-30=Number of days 88=None 77=Don’t know/Not ...  2018  Core Question   \n",
       "3  1-30=Number of days 88=None 77=Don’t know/Not ...  2018  Core Question   \n",
       "4         1=Yes 2=No 7=Don’t know/Not Sure 9=Refused  2018  Core Question   \n",
       "\n",
       "  displayorder  \n",
       "0            1  \n",
       "1            2  \n",
       "2            3  \n",
       "3            4  \n",
       "4            5  "
      ]
     },
     "execution_count": 6,
     "metadata": {},
     "output_type": "execute_result"
    }
   ],
   "source": [
    "#pulling BRFSS Questions\n",
    "\n",
    "results = client.get('iuq5-y9ct', limit=7000)\n",
    "\n",
    "results_df = pd.DataFrame.from_records(results)\n",
    "\n",
    "results_df.shape\n",
    "\n",
    "results_df.head()\n",
    "\n",
    "# saving results to CSV file"
   ]
  },
  {
   "cell_type": "code",
   "execution_count": 7,
   "metadata": {},
   "outputs": [],
   "source": [
    "results_df.to_csv('BRFSS_Hist_Qs.csv', index=False)"
   ]
  },
  {
   "cell_type": "markdown",
   "metadata": {},
   "source": [
    "## Scrapping Historical Questionnaire Data"
   ]
  },
  {
   "cell_type": "code",
   "execution_count": 8,
   "metadata": {},
   "outputs": [
    {
     "data": {
      "text/plain": [
       "['http://www.cdc.gov/brfss/annual_data/annual_2009.htm',\n",
       " 'http://www.cdc.gov/brfss/annual_data/annual_2010.htm',\n",
       " 'http://www.cdc.gov/brfss/annual_data/annual_2011.htm',\n",
       " 'http://www.cdc.gov/brfss/annual_data/annual_2012.html',\n",
       " 'http://www.cdc.gov/brfss/annual_data/annual_2013.html',\n",
       " 'http://www.cdc.gov/brfss/annual_data/annual_2014.html',\n",
       " 'http://www.cdc.gov/brfss/annual_data/annual_2015.html',\n",
       " 'http://www.cdc.gov/brfss/annual_data/annual_2016.html',\n",
       " 'http://www.cdc.gov/brfss/annual_data/annual_2017.html',\n",
       " 'http://www.cdc.gov/brfss/annual_data/annual_2018.html']"
      ]
     },
     "execution_count": 8,
     "metadata": {},
     "output_type": "execute_result"
    }
   ],
   "source": [
    "#creating url links needed for data scrapping\n",
    "\n",
    "urls = []\n",
    "\n",
    "for x in range(2009,2019):\n",
    "    \n",
    "    #Survey data before 2012 are listed under old url formatting 'htm'. Reformating will be necessary for these years\n",
    "    \n",
    "    if x < 2012:\n",
    "        \n",
    "        urls.append(('http://www.cdc.gov/brfss/annual_data/annual_{}.htm').format(x))\n",
    "        \n",
    "    else:\n",
    "        \n",
    "        urls.append(('http://www.cdc.gov/brfss/annual_data/annual_{}.html').format(x))\n",
    "        \n",
    "urls"
   ]
  },
  {
   "cell_type": "markdown",
   "metadata": {},
   "source": [
    "Now that we have our list of web addresses, we can extract the needed data in the form of zip files."
   ]
  },
  {
   "cell_type": "markdown",
   "metadata": {},
   "source": [
    "#### Isolating .zip files"
   ]
  },
  {
   "cell_type": "code",
   "execution_count": 9,
   "metadata": {
    "scrolled": false
   },
   "outputs": [
    {
     "data": {
      "text/plain": [
       "['http://www.cdc.gov/brfss/annual_data/2012/files/LLCP2012XPT.ZIP',\n",
       " 'http://www.cdc.gov/brfss/annual_data/2014/files/LLCP2014XPT.ZIP',\n",
       " '/brfss/annual_data/2017/files/LLCP2017ASC.zip',\n",
       " '/brfss/annual_data/2017/files/LLCP2017XPT.zip',\n",
       " 'https://www.cdc.gov/brfss/annual_data/2015/files/LLCP2015ASC.zip',\n",
       " '/brfss/annual_data/2016/files/LLCP2016XPT.zip',\n",
       " '/brfss/annual_data/2012/LLCP_VarLayout_12_OneColumn.HTML',\n",
       " 'http://www.cdc.gov/brfss/annual_data/2012/files/LLCP2012ASC.ZIP',\n",
       " 'http://www.cdc.gov/brfss/annual_data/2013/files/LLCP2013ASC.ZIP',\n",
       " '/brfss/annual_data/2016/llcp_varlayout_16_onecolumn.html',\n",
       " 'https://www.cdc.gov/brfss/annual_data/2015/llcp_varlayout_15_onecolumn.html',\n",
       " 'http://www.cdc.gov/brfss/annual_data/2011/files/LLCP2011XPT.ZIP',\n",
       " '/brfss/annual_data/2016/files/LLCP2016ASC.zip',\n",
       " 'http://www.cdc.gov/brfss/annual_data/2009/files/CDBRFS09XPT.ZIP',\n",
       " 'http://www.cdc.gov/brfss/annual_data/2013/files/LLCP2013XPT.ZIP',\n",
       " 'http://www.cdc.gov/brfss/annual_data/2010/files/CDBRFS10XPT.zip',\n",
       " '/brfss/annual_data/2018/files/LLCP2018XPT.zip',\n",
       " '/brfss/annual_data/2013/LLCP_VarLayout_13_OneColumn.html',\n",
       " 'https://www.cdc.gov/brfss/annual_data/2015/files/LLCP2015XPT.zip',\n",
       " '/brfss/annual_data/2014/LLCP_VarLayout_14_OneColumn.html',\n",
       " '/brfss/annual_data/2018/files/LLCP2018ASC.zip',\n",
       " '/brfss/annual_data/2018/llcp_varlayout_18_onecolumn.html',\n",
       " 'http://www.cdc.gov/brfss/annual_data/2014/files/LLCP2014ASC.ZIP',\n",
       " '/brfss/annual_data/2017/llcp_varlayout_17_onecolumn.html']"
      ]
     },
     "execution_count": 9,
     "metadata": {},
     "output_type": "execute_result"
    }
   ],
   "source": [
    "# prospective zip files\n",
    "\n",
    "options = []\n",
    "  \n",
    "for url in urls:\n",
    "    \n",
    "    response = requests.get(url)\n",
    "    \n",
    "    soup = BeautifulSoup(response.content, 'html.parser')\n",
    "    \n",
    "    #earlier data was under different site formatting\n",
    "    \n",
    "    if url == 'http://www.cdc.gov/brfss/annual_data/annual_2011.htm':\n",
    "        \n",
    "        soup = BeautifulSoup(response.content, 'html.parser')\n",
    "        \n",
    "        _zip = soup.findAll('a', attrs={'href': re.compile('http:')})\n",
    "        \n",
    "        o = _zip[2].get('href')\n",
    "        \n",
    "        options.append(o)\n",
    "        \n",
    "    elif '.html' not in url:\n",
    "        \n",
    "        _zip = soup.findAll('a', attrs={'href': re.compile('http:')})\n",
    "        \n",
    "        o = _zip[1].get('href')\n",
    "        \n",
    "        options.append(o)\n",
    "        \n",
    "    else:\n",
    "        \n",
    "        _zip = soup.findAll('div', class_='col-md-6')\n",
    "        \n",
    "        for x in _zip[2].findAll('a'):\n",
    "            \n",
    "            options.append(x.get('href'))\n",
    "            \n",
    "        options.append(o)\n",
    "           \n",
    "options = list(set(options))\n",
    "\n",
    "options"
   ]
  },
  {
   "cell_type": "markdown",
   "metadata": {},
   "source": [
    "As you can see, our zip file list inlcudes a lot of useless info. We need to isolate the purtenant zip files."
   ]
  },
  {
   "cell_type": "code",
   "execution_count": 10,
   "metadata": {},
   "outputs": [
    {
     "data": {
      "text/plain": [
       "['http://www.cdc.gov/brfss/annual_data/2012/files/LLCP2012XPT.ZIP',\n",
       " 'http://www.cdc.gov/brfss/annual_data/2014/files/LLCP2014XPT.ZIP',\n",
       " 'http://www.cdc.gov/brfss/annual_data/2017/files/LLCP2017XPT.zip',\n",
       " 'http://www.cdc.gov/brfss/annual_data/2016/files/LLCP2016XPT.zip',\n",
       " 'http://www.cdc.gov/brfss/annual_data/2011/files/LLCP2011XPT.ZIP',\n",
       " 'http://www.cdc.gov/brfss/annual_data/2009/files/CDBRFS09XPT.ZIP',\n",
       " 'http://www.cdc.gov/brfss/annual_data/2013/files/LLCP2013XPT.ZIP',\n",
       " 'http://www.cdc.gov/brfss/annual_data/2010/files/CDBRFS10XPT.zip',\n",
       " 'http://www.cdc.gov/brfss/annual_data/2018/files/LLCP2018XPT.zip',\n",
       " 'http://www.cdc.gov/brfss/annual_data/2015/files/LLCP2015XPT.zip']"
      ]
     },
     "execution_count": 10,
     "metadata": {},
     "output_type": "execute_result"
    }
   ],
   "source": [
    "#target XPT files to download\n",
    "z_files = []\n",
    "\n",
    "#removing needless files\n",
    "for option in options:\n",
    "    \n",
    "    if 'XPT' not in option:\n",
    "        \n",
    "        pass\n",
    "    \n",
    "    elif 'out'in option:\n",
    "        \n",
    "        pass\n",
    "    \n",
    "    elif 'https' in option:\n",
    "        \n",
    "        option = option.replace('https', 'http')\n",
    "        \n",
    "        z_files.append(option)\n",
    "        \n",
    "    elif 'http://www.cdc.gov' not in option:\n",
    "        \n",
    "        z = 'http://www.cdc.gov' + option\n",
    "        \n",
    "        z_files.append(z)    \n",
    "        \n",
    "    else:\n",
    "        \n",
    "        z_files.append(option)\n",
    "    \n",
    "z_files"
   ]
  },
  {
   "cell_type": "markdown",
   "metadata": {},
   "source": [
    "Now that the appropriate zip files names are generated, we can access and save the information within each file."
   ]
  },
  {
   "cell_type": "code",
   "execution_count": null,
   "metadata": {},
   "outputs": [],
   "source": [
    "#downloading opened zip files to notebook\n",
    "\n",
    "for url in z_files:\n",
    "    \n",
    "    #opening zip file\n",
    "    zipresp = urlopen(url)\n",
    "    \n",
    "    with urlopen(url) as zipresp:\n",
    "        \n",
    "        #reading and extracting zip file data\n",
    "        with ZipFile(BytesIO(zipresp.read())) as zfile:\n",
    "            \n",
    "            zfile.extractall('C:/Users/Desmond/Course-Work/Capstone_Project/dsc-capstone-project-v2-online-ds-pt-051319')"
   ]
  },
  {
   "cell_type": "markdown",
   "metadata": {},
   "source": [
    "#### "
   ]
  },
  {
   "cell_type": "markdown",
   "metadata": {},
   "source": [
    "Now that we have our raw data, we need to create csv files to store them."
   ]
  },
  {
   "cell_type": "markdown",
   "metadata": {},
   "source": [
    "#### Saveing raw data and csv conversion"
   ]
  },
  {
   "cell_type": "code",
   "execution_count": 12,
   "metadata": {
    "scrolled": true
   },
   "outputs": [
    {
     "data": {
      "text/plain": [
       "['LLCP2012',\n",
       " 'LLCP2014',\n",
       " 'LLCP2017',\n",
       " 'LLCP2016',\n",
       " 'LLCP2011',\n",
       " 'CDBRFS09',\n",
       " 'LLCP2013',\n",
       " 'CDBRFS10',\n",
       " 'LLCP2018',\n",
       " 'LLCP2015']"
      ]
     },
     "execution_count": 12,
     "metadata": {},
     "output_type": "execute_result"
    }
   ],
   "source": [
    "#generating raw data file names\n",
    "local_files = []\n",
    "\n",
    "for url in z_files:\n",
    "    \n",
    "    local_files.append(url[48:56])\n",
    "    \n",
    "local_files"
   ]
  },
  {
   "cell_type": "code",
   "execution_count": 13,
   "metadata": {},
   "outputs": [],
   "source": [
    "#generating csv file names\n",
    "study_years = range(2009, 2019)\n",
    "\n",
    "call_files = []\n",
    "\n",
    "for s in study_years:\n",
    "    \n",
    "    call_files.append(('BRFSS_{}').format(s))"
   ]
  },
  {
   "cell_type": "code",
   "execution_count": 14,
   "metadata": {},
   "outputs": [
    {
     "data": {
      "text/plain": [
       "['BRFSS_2009',\n",
       " 'BRFSS_2010',\n",
       " 'BRFSS_2011',\n",
       " 'BRFSS_2012',\n",
       " 'BRFSS_2013',\n",
       " 'BRFSS_2014',\n",
       " 'BRFSS_2015',\n",
       " 'BRFSS_2016',\n",
       " 'BRFSS_2017',\n",
       " 'BRFSS_2018']"
      ]
     },
     "execution_count": 14,
     "metadata": {},
     "output_type": "execute_result"
    }
   ],
   "source": [
    "call_files"
   ]
  },
  {
   "cell_type": "code",
   "execution_count": null,
   "metadata": {},
   "outputs": [],
   "source": [
    "counter = 0\n",
    "\n",
    "for l_file in local_files:\n",
    "    \n",
    "    for file in call_files:\n",
    "        \n",
    "        if file[8:10] in l_file:\n",
    "            \n",
    "            holder = pd.read_sas(('Your_File_Path/{}.XPT').format(l_file))\n",
    "            \n",
    "            holder.to_csv(('{}.csv').format(file), index=None)\n",
    "            \n",
    "            counter =+ 1\n",
    "            \n",
    "        elif counter < len(call_files):\n",
    "            \n",
    "            continue\n",
    "            \n",
    "        else:\n",
    "            \n",
    "            break      "
   ]
  },
  {
   "cell_type": "markdown",
   "metadata": {},
   "source": [
    "#### NOTE: Be sure to designate your desired file path for saving .XPT files."
   ]
  },
  {
   "cell_type": "markdown",
   "metadata": {},
   "source": [
    "All done! Raw data has ben aquired and is ready for processing. "
   ]
  }
 ],
 "metadata": {
  "kernelspec": {
   "display_name": "Python 3",
   "language": "python",
   "name": "python3"
  },
  "language_info": {
   "codemirror_mode": {
    "name": "ipython",
    "version": 3
   },
   "file_extension": ".py",
   "mimetype": "text/x-python",
   "name": "python",
   "nbconvert_exporter": "python",
   "pygments_lexer": "ipython3",
   "version": "3.6.6"
  }
 },
 "nbformat": 4,
 "nbformat_minor": 2
}
